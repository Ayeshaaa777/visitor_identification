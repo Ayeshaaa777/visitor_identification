{
  "nbformat": 4,
  "nbformat_minor": 0,
  "metadata": {
    "colab": {
      "provenance": [],
      "machine_shape": "hm",
      "include_colab_link": true
    },
    "kernelspec": {
      "name": "python3",
      "display_name": "Python 3"
    },
    "accelerator": "GPU"
  },
  "cells": [
    {
      "cell_type": "markdown",
      "metadata": {
        "id": "view-in-github",
        "colab_type": "text"
      },
      "source": [
        "<a href=\"https://colab.research.google.com/github/Ayeshaaa777/visitor_identification/blob/main/DeepFake_Detectcion_Models.ipynb\" target=\"_parent\"><img src=\"https://colab.research.google.com/assets/colab-badge.svg\" alt=\"Open In Colab\"/></a>"
      ]
    },
    {
      "cell_type": "code",
      "metadata": {
        "id": "hFlbs2V7o_Ca"
      },
      "source": [
        "import numpy as np\n",
        "import pandas as pd\n",
        "import matplotlib.pyplot as plt\n",
        "import os, imageio, pickle, h5py\n",
        "\n",
        "import warnings\n",
        "warnings.filterwarnings('ignore')\n",
        "\n",
        "plt.rcParams['figure.figsize'] = (10.0, 5.0)\n",
        "\n",
        "# change working directory"
      ],
      "execution_count": 17,
      "outputs": []
    },
    {
      "cell_type": "code",
      "metadata": {
        "id": "g18NgC_upYy1",
        "colab": {
          "base_uri": "https://localhost:8080/"
        },
        "outputId": "6902df3f-c995-42e4-a036-fcb791d2fc65"
      },
      "source": [
        "# use tensorflow version 2\n",
        "%tensorflow_version 2.x\n",
        "import tensorflow.keras.metrics as tf_metrics\n",
        "from tensorflow.keras.utils import Sequence\n",
        "from tensorflow.keras.constraints import MaxNorm\n",
        "from tensorflow.keras.optimizers import Adam\n",
        "from tensorflow.keras.callbacks import EarlyStopping, ModelCheckpoint\n",
        "from tensorflow.keras.models import Model, Sequential, load_model\n",
        "from tensorflow.keras.layers import Input, Dense, Dropout, BatchNormalization, \\\n",
        "MaxPooling2D, Conv2D, Flatten, TimeDistributed, LSTM, Masking"
      ],
      "execution_count": 18,
      "outputs": [
        {
          "output_type": "stream",
          "name": "stdout",
          "text": [
            "Colab only includes TensorFlow 2.x; %tensorflow_version has no effect.\n"
          ]
        }
      ]
    },
    {
      "cell_type": "markdown",
      "metadata": {
        "id": "p8ndsBYI-QxW"
      },
      "source": [
        "## Helper Functions"
      ]
    },
    {
      "cell_type": "markdown",
      "metadata": {
        "id": "3wUK6jGk9ih6"
      },
      "source": [
        "The size of the data is too large to load into memory all at once. Thus, I need to make use of batch generators which allow for a subset of my data to be loaded at a time."
      ]
    },
    {
      "cell_type": "code",
      "metadata": {
        "id": "HbtPqHK-WUYM"
      },
      "source": [
        "# Custom frame generator which inherits from the Sequence class from Keras\n",
        "# modified from https://stanford.edu/~shervine/blog/keras-how-to-generate-data-on-the-fly\n",
        "class frame_generator(Sequence):\n",
        "    'Generates data for Keras'\n",
        "    def __init__(self, filenames, labels, subset, batch_size=64, dim=(160,160), n_channels=3,\n",
        "                 n_classes=2, shuffle=True):\n",
        "        'Initialization'\n",
        "        self.filenames = filenames\n",
        "        self.labels = labels\n",
        "        self.subset = subset\n",
        "        self.batch_size = batch_size\n",
        "        self.dim = dim\n",
        "        self.n_channels = n_channels\n",
        "        self.n_classes = n_classes\n",
        "        self.shuffle = shuffle\n",
        "        self.on_epoch_end()\n",
        "\n",
        "    def __len__(self):\n",
        "        'Denotes the number of batches per epoch'\n",
        "        return int(np.ceil(len(self.filenames) / self.batch_size))\n",
        "\n",
        "    def __getitem__(self, index):\n",
        "        'Generate one batch of data'\n",
        "        # Generate indexes of the batch\n",
        "        index_min = index*self.batch_size\n",
        "        # Adjust for smaller final batch\n",
        "        index_max = min(index_min + self.batch_size, len(self.filenames))\n",
        "        indexes = self.indexes[index_min:index_max]\n",
        "\n",
        "        # Find list of IDs\n",
        "        filenames_temp = [self.filenames[k] for k in indexes]\n",
        "        labels_temp = [self.labels[k] for k in indexes]\n",
        "\n",
        "        # Generate data\n",
        "        X, y = self.__data_generation(filenames_temp, labels_temp)\n",
        "\n",
        "        return X, y\n",
        "\n",
        "    def on_epoch_end(self):\n",
        "        'Updates indexes after each epoch'\n",
        "        self.indexes = np.arange(len(self.filenames))\n",
        "        if self.shuffle == True:\n",
        "            np.random.shuffle(self.indexes)\n",
        "\n",
        "    def __data_generation(self, filenames_temp, labels_temp):\n",
        "        'Generates data containing batch_size samples' # X : (n_samples, *dim, n_channels)\n",
        "        # Initialization\n",
        "        X = np.empty((self.batch_size, *self.dim, self.n_channels))\n",
        "        y = np.empty((self.batch_size), dtype=int)\n",
        "\n",
        "        # Generate data\n",
        "        for i, (ID, label) in enumerate(zip(filenames_temp, labels_temp)):\n",
        "            # Store sample\n",
        "            # print(ID)\n",
        "            X[i,] = self._load_image(ID)\n",
        "\n",
        "            # Store class\n",
        "            y[i] = labels_temp[i]\n",
        "\n",
        "        return X, y\n",
        "\n",
        "    def _load_image(self, filename):\n",
        "        file_path = self.subset + '/' + filename\n",
        "        try:\n",
        "            frame_path = file_path + '/' + os.listdir(file_path)[14]\n",
        "        #if 15th frame does not exist, use first frame\n",
        "        except IndexError:\n",
        "            frame_path = file_path + '/' + os.listdir(file_path)[0]\n",
        "\n",
        "        frame = imageio.imread(frame_path)\n",
        "        frame = np.array(frame)\n",
        "        frame = frame.astype('float32')\n",
        "        frame /= 255\n",
        "\n",
        "        return frame"
      ],
      "execution_count": 19,
      "outputs": []
    },
    {
      "cell_type": "code",
      "metadata": {
        "id": "cWXzTUus-mgQ"
      },
      "source": [
        "# function to build a CNN from a pre-trained model (transfer learning)\n",
        "def build_imagenet_model(pretrained_model):\n",
        "\n",
        "    base_model_out = pretrained_model.output\n",
        "\n",
        "    # Add flatten layer\n",
        "    base_model_out = Flatten()(base_model_out)\n",
        "\n",
        "    # Add 2 dense layers with dropout and batch normalization\n",
        "    base_model_out = Dense(1024, activation='relu')(base_model_out) #kernel_constraint=MaxNorm(3)\n",
        "    base_model_out = Dropout(0.5)(base_model_out)\n",
        "    base_model_out = BatchNormalization()(base_model_out)\n",
        "\n",
        "    base_model_out = Dense(512, activation='relu')(base_model_out) #kernel_constraint=MaxNorm(3)\n",
        "    base_model_out = Dropout(0.25)(base_model_out)\n",
        "    base_model_out = BatchNormalization()(base_model_out)\n",
        "\n",
        "    # Add final 1 neuron layer, using sigmoid activation for binary classification\n",
        "    preds = Dense(1, activation='sigmoid')(base_model_out)\n",
        "\n",
        "    # Instantiate final model and specify input and ouput\n",
        "    model = Model(inputs = pretrained_model.input, outputs = preds)\n",
        "\n",
        "    return model"
      ],
      "execution_count": 20,
      "outputs": []
    },
    {
      "cell_type": "code",
      "metadata": {
        "id": "31BTX6VzDB0x"
      },
      "source": [
        "# custom metric functions for recall, precision and f1 to obtain during training\n",
        "# code from https://datascience.stackexchange.com/questions/45165/how-to-get-accuracy-f1-precision-and-recall-for-a-keras-model\n",
        "from tensorflow.keras import backend as K\n",
        "\n",
        "def recall_m(y_true, y_pred):\n",
        "    true_positives = K.sum(K.round(K.clip(y_true * y_pred, 0, 1)))\n",
        "    possible_positives = K.sum(K.round(K.clip(y_true, 0, 1)))\n",
        "    recall = true_positives / (possible_positives + K.epsilon())\n",
        "    return recall\n",
        "\n",
        "def precision_m(y_true, y_pred):\n",
        "    true_positives = K.sum(K.round(K.clip(y_true * y_pred, 0, 1)))\n",
        "    predicted_positives = K.sum(K.round(K.clip(y_pred, 0, 1)))\n",
        "    precision = true_positives / (predicted_positives + K.epsilon())\n",
        "    return precision\n",
        "\n",
        "def f1_m(y_true, y_pred):\n",
        "    precision = precision_m(y_true, y_pred)\n",
        "    recall = recall_m(y_true, y_pred)\n",
        "    return 2*((precision*recall)/(precision+recall+K.epsilon()))"
      ],
      "execution_count": 21,
      "outputs": []
    },
    {
      "cell_type": "code",
      "metadata": {
        "id": "XbmvxAMW_MYn"
      },
      "source": [
        "# function to plot loss and accuracy history for train and validation\n",
        "def plot_metrics(model_history):\n",
        "    train_losses = model_history['loss']\n",
        "    train_accuracies = model_history['binary_accuracy']\n",
        "\n",
        "    val_losses = model_history['val_loss']\n",
        "    val_accuracies = model_history['val_binary_accuracy']\n",
        "\n",
        "    n_epochs = np.arange(1, len(train_losses) + 1)\n",
        "\n",
        "    plt.subplots(1,2)\n",
        "\n",
        "    plt.subplot(1,2,1)\n",
        "    plt.plot(n_epochs, train_losses, c='darkorange', label='Train')\n",
        "    plt.plot(n_epochs, val_losses, c='darkblue', label='Validation')\n",
        "    plt.ylabel('Loss', fontdict={'size':16})\n",
        "    plt.xlabel('Epoch', fontdict={'size':16})\n",
        "    plt.axis(ymin=0)\n",
        "    #plt.legend()\n",
        "\n",
        "    plt.subplot(1,2,2)\n",
        "    plt.plot(n_epochs, train_accuracies, c='darkorange', label='Train')\n",
        "    plt.plot(n_epochs, val_accuracies, c='darkblue', label='Validation')\n",
        "    plt.plot(n_epochs, [0.88]*len(train_losses), c='red', linestyle=\"--\", label='Proportion of Fakes')\n",
        "    plt.ylabel('Accuracy', fontdict={'size':16})\n",
        "    plt.xlabel('Epoch', fontdict={'size':16})\n",
        "    plt.axis(ymin=0, ymax=1)\n",
        "\n",
        "    plt.tight_layout(pad=3)\n",
        "    plt.show()"
      ],
      "execution_count": 22,
      "outputs": []
    },
    {
      "cell_type": "code",
      "metadata": {
        "id": "2mTqgWvcBqCD"
      },
      "source": [
        "from sklearn.metrics import roc_auc_score\n",
        "# function to obtain performance metrics based on predictions\n",
        "def get_metrics(pred):\n",
        "    hard_pred = np.where(pred<0.5, 0, 1).reshape(len(pred))\n",
        "    hard_pred = hard_pred[:len(test)]\n",
        "    df = pd.DataFrame({'true_labels':test['label'], 'pred_labels':hard_pred})\n",
        "\n",
        "    TP = sum((df['true_labels']==1) & (df['pred_labels']==1))\n",
        "    TN = sum((df['true_labels']==0) & (df['pred_labels']==0))\n",
        "    FP = sum((df['true_labels']==0) & (df['pred_labels']==1))\n",
        "    FN = sum((df['true_labels']==1) & (df['pred_labels']==0))\n",
        "\n",
        "    print(f'TP = {TP}, TN = {TN}, FP = {FP}, FN = {FN}\\n')\n",
        "\n",
        "    recall = TP / (TP + FN) # true positive rate\n",
        "    precision = TP / (TP + FP)\n",
        "    specificity = TN / (TN + FP) # true negative rate\n",
        "    roc = roc_auc_score(test['label'], hard_pred)\n",
        "\n",
        "    print(f'recall={recall}, precision={precision}, specificity={specificity}, roc={roc}')"
      ],
      "execution_count": 23,
      "outputs": []
    },
    {
      "cell_type": "code",
      "metadata": {
        "id": "RXOhEul8_X9a"
      },
      "source": [
        "# read in metadata files and remove 'data_30' from filenames\n",
        "metadata_train = pd.read_csv('train.csv')\n",
        "metadata_train['filename'] = metadata_train['filename'].str.replace('data_30/', '')\n",
        "\n",
        "metadata_validation = pd.read_csv('validation.csv')\n",
        "metadata_validation['filename'] = metadata_validation['filename'].str.replace('data_30/', '')\n",
        "\n",
        "metadata_test = pd.read_csv('test.csv')\n",
        "metadata_test['filename'] = metadata_test['filename'].str.replace('data_30/', '')\n",
        "\n",
        "metadata_train.to_csv('train.csv', index=False)\n",
        "metadata_validation.to_csv('validation.csv', index=False)\n",
        "metadata_test.to_csv('test.csv', index=False)"
      ],
      "execution_count": 24,
      "outputs": []
    },
    {
      "cell_type": "markdown",
      "metadata": {
        "id": "1zSMgZFicGFB"
      },
      "source": [
        "# DeepFake Detection using 1 frame per video"
      ]
    },
    {
      "cell_type": "code",
      "metadata": {
        "id": "z2Tncjd6c1h0"
      },
      "source": [
        "### Hyperparameters\n",
        "EPOCHS = 50\n",
        "BATCH_SIZE = 64\n",
        "\n",
        "# metadata files with clean filenames\n",
        "train = pd.read_csv('train.csv')\n",
        "validation = pd.read_csv('validation.csv')\n",
        "test = pd.read_csv('test.csv')\n",
        "\n",
        "# number of steps (number of batches) for each data split\n",
        "steps_train = int(np.ceil(train.shape[0]/BATCH_SIZE))\n",
        "steps_validation = int(np.ceil(validation.shape[0]/BATCH_SIZE))\n",
        "steps_test = int(np.ceil(test.shape[0]/BATCH_SIZE))"
      ],
      "execution_count": 25,
      "outputs": []
    },
    {
      "cell_type": "code",
      "metadata": {
        "id": "nyVBgCzZ2JLI"
      },
      "source": [
        "# ADAM optimizers with varying learning rates and decays\n",
        "opt_1 = Adam(learning_rate=0.1, decay = 0.01)\n",
        "opt_01 = Adam(learning_rate=0.01, decay = 0.001)\n",
        "opt_001 = Adam(learning_rate=0.001, decay = 0.0001)\n",
        "opt_0001 = Adam(learning_rate=0.0001, decay = 0.00001)\n",
        "\n",
        "# early stopping if no improvement (at least 0.001) in validation loss is observed for 20 epochs\n",
        "es = EarlyStopping(monitor='val_loss', min_delta=0.001, mode='min', verbose=1, patience=20)"
      ],
      "execution_count": 28,
      "outputs": []
    },
    {
      "cell_type": "code",
      "metadata": {
        "id": "fMm8La4Mc4Ao",
        "outputId": "c49cf3e6-19e4-4471-a42a-ecfa5c0aae0d",
        "colab": {
          "base_uri": "https://localhost:8080/"
        }
      },
      "source": [
        "# set weights for each class to reflect their imbalance\n",
        "real, fake = np.bincount(train['label'])\n",
        "total = real + fake\n",
        "\n",
        "weight_real = (1 / real)*(total)/2.0\n",
        "weight_fake = (1 / fake)*(total)/2.0\n",
        "\n",
        "class_weight = {0: weight_real, 1: weight_fake}\n",
        "print(class_weight)"
      ],
      "execution_count": 29,
      "outputs": [
        {
          "output_type": "stream",
          "name": "stdout",
          "text": [
            "{0: 7.017241379310344, 1: 0.5383597883597884}\n"
          ]
        }
      ]
    },
    {
      "cell_type": "code",
      "metadata": {
        "id": "OBC90OyceVV9"
      },
      "source": [
        "# setup up batch generators for each data split\n",
        "train_x, train_y = np.asarray(train['filename']), np.asarray(train['label'])\n",
        "validation_x, validation_y = np.asarray(validation['filename']), np.asarray(validation['label'])\n",
        "test_x, test_y = np.asarray(test['filename']), np.asarray(test['label'])\n",
        "\n",
        "train_frame_gen = frame_generator(train_x, train_y, 'train', batch_size=BATCH_SIZE)\n",
        "validation_frame_gen = frame_generator(validation_x, validation_y, 'validation', batch_size=BATCH_SIZE, shuffle=False)\n",
        "test_frame_gen = frame_generator(test_x, test_y, 'test', batch_size=BATCH_SIZE, shuffle=False)"
      ],
      "execution_count": 30,
      "outputs": []
    },
    {
      "cell_type": "markdown",
      "metadata": {
        "id": "O8CVNhnIL1Zb"
      },
      "source": [
        "## Simple CNN from Scratch"
      ]
    },
    {
      "cell_type": "code",
      "metadata": {
        "id": "uNDu9qySM7u3",
        "outputId": "fc83fcc7-bd37-4a37-b873-40caf5806273",
        "colab": {
          "base_uri": "https://localhost:8080/",
          "height": 356
        }
      },
      "source": [
        "# Build relatively simple CNN architechture\n",
        "my_cnn = Sequential([\n",
        "    # 3 sets of 2x conv2d and max pooling\n",
        "    # set padding='same' to retain information at image boundaries\n",
        "    Conv2D(32, kernel_size=(3, 3), activation='relu', padding = 'same', input_shape=(160, 160, 3)),\n",
        "    Conv2D(32, kernel_size=(3, 3), activation='relu', padding = 'same'),\n",
        "    MaxPooling2D(pool_size=(2, 2)),\n",
        "    Conv2D(64, kernel_size=(3, 3), activation='relu', padding = 'same'),\n",
        "    Conv2D(64, kernel_size=(3, 3), activation='relu', padding = 'same'),\n",
        "    MaxPooling2D(pool_size=(2, 2)),\n",
        "    Conv2D(128, kernel_size=(3, 3), activation='relu', padding = 'same'),\n",
        "    Conv2D(128, kernel_size=(3, 3), activation='relu', padding = 'same'),\n",
        "    MaxPooling2D(pool_size=(2, 2)),\n",
        "    Flatten(),\n",
        "\n",
        "    # 2x dense layers to learn from features extracted from convolutions\n",
        "    Dense(128, activation='relu'),\n",
        "    Dense(256, activation='relu'),\n",
        "\n",
        "    # output layer of 1 neuron with sigmoid activation for binary classification\n",
        "    Dense(1, activation='sigmoid')\n",
        "])\n",
        "\n",
        "# compile model\n",
        "my_cnn.compile(loss='binary_crossentropy',\n",
        "               optimizer=opt_001,\n",
        "               metrics=['binary_accuracy', recall_m, precision_m, f1_m])\n",
        "\n",
        "# save best model weights throughout training based on validation loss\n",
        "mc = ModelCheckpoint('models/my_cnn.001.keras', monitor='val_loss', mode='min', verbose=1, save_best_only=True)\n",
        "# train model\n",
        "my_cnn_history = my_cnn.fit(\n",
        "    train_generator, epochs=EPOCHS, steps_per_epoch=steps_train,\n",
        "    verbose=1, shuffle=True,\n",
        "    validation_data=validation_generator,\n",
        "    validation_steps=steps_validation,\n",
        "    max_queue_size=50,\n",
        "    class_weight=class_weight,\n",
        "    callbacks=[es, mc])"
      ],
      "execution_count": 35,
      "outputs": [
        {
          "output_type": "error",
          "ename": "TypeError",
          "evalue": "TensorFlowTrainer.fit() got an unexpected keyword argument 'max_queue_size'",
          "traceback": [
            "\u001b[0;31m---------------------------------------------------------------------------\u001b[0m",
            "\u001b[0;31mTypeError\u001b[0m                                 Traceback (most recent call last)",
            "\u001b[0;32m<ipython-input-35-7e447dc8b653>\u001b[0m in \u001b[0;36m<cell line: 32>\u001b[0;34m()\u001b[0m\n\u001b[1;32m     30\u001b[0m \u001b[0mmc\u001b[0m \u001b[0;34m=\u001b[0m \u001b[0mModelCheckpoint\u001b[0m\u001b[0;34m(\u001b[0m\u001b[0;34m'models/my_cnn.001.keras'\u001b[0m\u001b[0;34m,\u001b[0m \u001b[0mmonitor\u001b[0m\u001b[0;34m=\u001b[0m\u001b[0;34m'val_loss'\u001b[0m\u001b[0;34m,\u001b[0m \u001b[0mmode\u001b[0m\u001b[0;34m=\u001b[0m\u001b[0;34m'min'\u001b[0m\u001b[0;34m,\u001b[0m \u001b[0mverbose\u001b[0m\u001b[0;34m=\u001b[0m\u001b[0;36m1\u001b[0m\u001b[0;34m,\u001b[0m \u001b[0msave_best_only\u001b[0m\u001b[0;34m=\u001b[0m\u001b[0;32mTrue\u001b[0m\u001b[0;34m)\u001b[0m\u001b[0;34m\u001b[0m\u001b[0;34m\u001b[0m\u001b[0m\n\u001b[1;32m     31\u001b[0m \u001b[0;31m# train model\u001b[0m\u001b[0;34m\u001b[0m\u001b[0;34m\u001b[0m\u001b[0m\n\u001b[0;32m---> 32\u001b[0;31m my_cnn_history = my_cnn.fit(\n\u001b[0m\u001b[1;32m     33\u001b[0m     \u001b[0mtrain_generator\u001b[0m\u001b[0;34m,\u001b[0m \u001b[0mepochs\u001b[0m\u001b[0;34m=\u001b[0m\u001b[0mEPOCHS\u001b[0m\u001b[0;34m,\u001b[0m \u001b[0msteps_per_epoch\u001b[0m\u001b[0;34m=\u001b[0m\u001b[0msteps_train\u001b[0m\u001b[0;34m,\u001b[0m\u001b[0;34m\u001b[0m\u001b[0;34m\u001b[0m\u001b[0m\n\u001b[1;32m     34\u001b[0m     \u001b[0mverbose\u001b[0m\u001b[0;34m=\u001b[0m\u001b[0;36m1\u001b[0m\u001b[0;34m,\u001b[0m \u001b[0mshuffle\u001b[0m\u001b[0;34m=\u001b[0m\u001b[0;32mTrue\u001b[0m\u001b[0;34m,\u001b[0m\u001b[0;34m\u001b[0m\u001b[0;34m\u001b[0m\u001b[0m\n",
            "\u001b[0;32m/usr/local/lib/python3.10/dist-packages/keras/src/utils/traceback_utils.py\u001b[0m in \u001b[0;36merror_handler\u001b[0;34m(*args, **kwargs)\u001b[0m\n\u001b[1;32m    120\u001b[0m             \u001b[0;31m# To get the full stack trace, call:\u001b[0m\u001b[0;34m\u001b[0m\u001b[0;34m\u001b[0m\u001b[0m\n\u001b[1;32m    121\u001b[0m             \u001b[0;31m# `keras.config.disable_traceback_filtering()`\u001b[0m\u001b[0;34m\u001b[0m\u001b[0;34m\u001b[0m\u001b[0m\n\u001b[0;32m--> 122\u001b[0;31m             \u001b[0;32mraise\u001b[0m \u001b[0me\u001b[0m\u001b[0;34m.\u001b[0m\u001b[0mwith_traceback\u001b[0m\u001b[0;34m(\u001b[0m\u001b[0mfiltered_tb\u001b[0m\u001b[0;34m)\u001b[0m \u001b[0;32mfrom\u001b[0m \u001b[0;32mNone\u001b[0m\u001b[0;34m\u001b[0m\u001b[0;34m\u001b[0m\u001b[0m\n\u001b[0m\u001b[1;32m    123\u001b[0m         \u001b[0;32mfinally\u001b[0m\u001b[0;34m:\u001b[0m\u001b[0;34m\u001b[0m\u001b[0;34m\u001b[0m\u001b[0m\n\u001b[1;32m    124\u001b[0m             \u001b[0;32mdel\u001b[0m \u001b[0mfiltered_tb\u001b[0m\u001b[0;34m\u001b[0m\u001b[0;34m\u001b[0m\u001b[0m\n",
            "\u001b[0;32m/usr/local/lib/python3.10/dist-packages/keras/src/utils/traceback_utils.py\u001b[0m in \u001b[0;36merror_handler\u001b[0;34m(*args, **kwargs)\u001b[0m\n\u001b[1;32m    115\u001b[0m         \u001b[0mfiltered_tb\u001b[0m \u001b[0;34m=\u001b[0m \u001b[0;32mNone\u001b[0m\u001b[0;34m\u001b[0m\u001b[0;34m\u001b[0m\u001b[0m\n\u001b[1;32m    116\u001b[0m         \u001b[0;32mtry\u001b[0m\u001b[0;34m:\u001b[0m\u001b[0;34m\u001b[0m\u001b[0;34m\u001b[0m\u001b[0m\n\u001b[0;32m--> 117\u001b[0;31m             \u001b[0;32mreturn\u001b[0m \u001b[0mfn\u001b[0m\u001b[0;34m(\u001b[0m\u001b[0;34m*\u001b[0m\u001b[0margs\u001b[0m\u001b[0;34m,\u001b[0m \u001b[0;34m**\u001b[0m\u001b[0mkwargs\u001b[0m\u001b[0;34m)\u001b[0m\u001b[0;34m\u001b[0m\u001b[0;34m\u001b[0m\u001b[0m\n\u001b[0m\u001b[1;32m    118\u001b[0m         \u001b[0;32mexcept\u001b[0m \u001b[0mException\u001b[0m \u001b[0;32mas\u001b[0m \u001b[0me\u001b[0m\u001b[0;34m:\u001b[0m\u001b[0;34m\u001b[0m\u001b[0;34m\u001b[0m\u001b[0m\n\u001b[1;32m    119\u001b[0m             \u001b[0mfiltered_tb\u001b[0m \u001b[0;34m=\u001b[0m \u001b[0m_process_traceback_frames\u001b[0m\u001b[0;34m(\u001b[0m\u001b[0me\u001b[0m\u001b[0;34m.\u001b[0m\u001b[0m__traceback__\u001b[0m\u001b[0;34m)\u001b[0m\u001b[0;34m\u001b[0m\u001b[0;34m\u001b[0m\u001b[0m\n",
            "\u001b[0;31mTypeError\u001b[0m: TensorFlowTrainer.fit() got an unexpected keyword argument 'max_queue_size'"
          ]
        }
      ]
    },
    {
      "cell_type": "code",
      "metadata": {
        "id": "-CW9pwEpOJqW"
      },
      "source": [
        "plot_metrics(my_cnn_history.history)"
      ],
      "execution_count": null,
      "outputs": []
    },
    {
      "cell_type": "code",
      "metadata": {
        "id": "n8gfVtfby1vw"
      },
      "source": [
        "# get predictions on test set\n",
        "test_pred = my_cnn.predict(test_frame_gen,\n",
        "    verbose = 1,\n",
        "    max_queue_size = 50)"
      ],
      "execution_count": null,
      "outputs": []
    },
    {
      "cell_type": "code",
      "metadata": {
        "id": "6LJJhcK7MTdu"
      },
      "source": [
        "# evaluate model based on recall, precision, specificity and ROC AUC\n",
        "get_metrics(test_pred)"
      ],
      "execution_count": null,
      "outputs": []
    },
    {
      "cell_type": "code",
      "metadata": {
        "id": "vJCJU7ULvkGV"
      },
      "source": [
        "# run this to load saved model\n",
        "custom_objects = {'recall_m':None, 'precision_m':None, 'f1_m':None}\n",
        "\n",
        "my_cnn = load_model('models/my_cnn.001.h5', custom_objects=custom_objects)"
      ],
      "execution_count": null,
      "outputs": []
    },
    {
      "cell_type": "markdown",
      "metadata": {
        "id": "NkUg2EclEwB4"
      },
      "source": []
    },
    {
      "cell_type": "markdown",
      "metadata": {
        "id": "CHXvFSXnMDgx"
      },
      "source": [
        "## Transfer Learning with ImageNet Models"
      ]
    },
    {
      "cell_type": "markdown",
      "metadata": {
        "id": "qEM1RAs4F7iM"
      },
      "source": [
        "#### Xception"
      ]
    },
    {
      "cell_type": "code",
      "metadata": {
        "id": "_G7joa9qeZ0V"
      },
      "source": [
        "# import Xception model, apply transfer learning and fit on training data\n",
        "from tensorflow.keras.applications.xception import Xception\n",
        "\n",
        "xception = Xception(\n",
        "    include_top=False,\n",
        "    weights='imagenet',\n",
        "    input_shape=(160, 160, 3)\n",
        ")\n",
        "\n",
        "xception_model = build_imagenet_model(xception)\n",
        "\n",
        "for layer in xception_model.layers[:len(xception.layers)]:\n",
        "    layer.trainable = False\n",
        "\n",
        "xception_model.compile(\n",
        "    loss='binary_crossentropy', optimizer=opt_001,\n",
        "    metrics=['binary_accuracy', recall_m, precision_m, f1_m])\n",
        "\n",
        "mc = ModelCheckpoint('models/xception_model.001.h5', monitor='val_loss', mode='min', verbose=1, save_best_only=True)\n",
        "\n",
        "xception_history = xception_model.fit(\n",
        "    train_generator, epochs=EPOCHS, steps_per_epoch=steps_train,\n",
        "    verbose=1, shuffle=True,\n",
        "    validation_data=validation_generator,\n",
        "    validation_steps=steps_validation,\n",
        "    class_weight=class_weight,\n",
        "    max_queue_size=50,\n",
        "    callbacks=[es, mc])"
      ],
      "execution_count": null,
      "outputs": []
    },
    {
      "cell_type": "code",
      "metadata": {
        "id": "ARtzZCx545eZ"
      },
      "source": [
        "# to save training history, can write training dictionary as a pickle file\n",
        "with open('histories/xception_history', 'wb') as filter:\n",
        "        pickle.dump(xception_history.history, f)\n",
        "\n",
        "# load saved training history\n",
        "with open('histories/xception_history', 'rb') as f:\n",
        "    xception_model_history = pickle.load(f)"
      ],
      "execution_count": null,
      "outputs": []
    },
    {
      "cell_type": "code",
      "metadata": {
        "id": "hUkKelWCJKKk"
      },
      "source": [
        "plot_metrics(xception_model_history)"
      ],
      "execution_count": null,
      "outputs": []
    },
    {
      "cell_type": "code",
      "metadata": {
        "id": "AbB3vn_bLno8"
      },
      "source": [
        "xception_test_pred = xception_model.predict(\n",
        "    test_frame_gen,\n",
        "    verbose = 1,\n",
        "    max_queue_size = 50)"
      ],
      "execution_count": null,
      "outputs": []
    },
    {
      "cell_type": "code",
      "metadata": {
        "id": "zeVD_77QHRXY"
      },
      "source": [
        "get_metrics(xception_test_pred)"
      ],
      "execution_count": null,
      "outputs": []
    },
    {
      "cell_type": "markdown",
      "metadata": {
        "id": "61GWMpoyGA92"
      },
      "source": [
        "#### VGG16"
      ]
    },
    {
      "cell_type": "markdown",
      "metadata": {
        "id": "GVOLpnEAGAa1"
      },
      "source": []
    },
    {
      "cell_type": "code",
      "metadata": {
        "id": "AMxJb-hFDVkB"
      },
      "source": [
        "from tensorflow.keras.applications.vgg16 import VGG16\n",
        "\n",
        "vgg16 = VGG16(\n",
        "    include_top=False,\n",
        "    weights='imagenet',\n",
        "    input_shape=(160, 160, 3)\n",
        ")\n",
        "\n",
        "vgg16_model = build_imagenet_model(vgg16)\n",
        "\n",
        "for layer in vgg16_model.layers[:len(vgg16.layers)]:\n",
        "    layer.trainable = False\n",
        "\n",
        "vgg16_model.compile(\n",
        "    loss='binary_crossentropy',\n",
        "    optimizer=opt_001,\n",
        "    metrics=['binary_accuracy', recall_m, precision_m, f1_m])\n",
        "\n",
        "mc = ModelCheckpoint('vgg16_model.01.h5', monitor='val_loss', mode='min', verbose=1, save_best_only=True)\n",
        "\n",
        "vgg16_history = vgg16_model.fit(\n",
        "    train_generator, epochs=EPOCHS, steps_per_epoch=steps_train, verbose=1,\n",
        "    validation_data=validation_generator,\n",
        "    validation_steps=steps_validation,\n",
        "    class_weight=class_weight,\n",
        "    max_queue_size=50,\n",
        "    callbacks=[es, mc])"
      ],
      "execution_count": null,
      "outputs": []
    },
    {
      "cell_type": "code",
      "metadata": {
        "id": "-XMqNbHGxpG2"
      },
      "source": [
        "with open('histories/vgg16_history', 'wb') as file_pi:\n",
        "    pickle.dump(vgg16_history.history, file_pi)"
      ],
      "execution_count": null,
      "outputs": []
    },
    {
      "cell_type": "code",
      "metadata": {
        "id": "CgsrArDApxbm"
      },
      "source": [
        "with open('histories/vgg16_history', 'rb') as f:\n",
        "    vgg16_history = pickle.load(f)\n",
        "\n",
        "plot_metrics(vgg16_history)"
      ],
      "execution_count": null,
      "outputs": []
    },
    {
      "cell_type": "code",
      "metadata": {
        "id": "ovMGfG15GcbN"
      },
      "source": [
        "# custom function to obtain auc metric\n",
        "# https://stackoverflow.com/questions/41032551/how-to-compute-receiving-operating-characteristic-roc-and-auc-in-keras\n",
        "def auc(y_true, y_pred):\n",
        "    auc = K.sum(K.round(K.clip(y_true * y_pred, 0, 1)))\n",
        "    return auc"
      ],
      "execution_count": null,
      "outputs": []
    },
    {
      "cell_type": "code",
      "metadata": {
        "id": "oShyMLhlZP2h"
      },
      "source": [
        "# this was a model built on top of VGG16 trained on my local machine\n",
        "vgg16_model = load_model('models/vgg16.h5', custom_objects={'auc':auc})\n",
        "vgg16_test_pred = vgg16_model.predict(test_frame_gen,\n",
        "    verbose = 1,\n",
        "    max_queue_size = 50)"
      ],
      "execution_count": null,
      "outputs": []
    },
    {
      "cell_type": "code",
      "metadata": {
        "id": "98oENExXbcnP"
      },
      "source": [
        "get_metrics(vgg16_test_pred)"
      ],
      "execution_count": null,
      "outputs": []
    },
    {
      "cell_type": "markdown",
      "metadata": {
        "id": "xYDZ_dzbGgaY"
      },
      "source": [
        "#### InceptionV3"
      ]
    },
    {
      "cell_type": "code",
      "metadata": {
        "id": "GZjWUvOmV7Gk"
      },
      "source": [
        "from tensorflow.keras.applications.inception_v3 import InceptionV3\n",
        "\n",
        "inception = InceptionV3(\n",
        "    include_top=False,\n",
        "    weights='imagenet',\n",
        "    input_shape=(160, 160, 3)\n",
        ")\n",
        "\n",
        "inception_model = build_imagenet_model(inception)\n",
        "\n",
        "for layer in inception_model.layers[:len(inception.layers)]:\n",
        "    layer.trainable = False\n",
        "\n",
        "inception_model.compile(\n",
        "    loss='binary_crossentropy', optimizer=opt_01,\n",
        "    metrics=['binary_accuracy', recall_m, precision_m, f1_m])\n",
        "\n",
        "mc = ModelCheckpoint('inception_model.01.h5', monitor='val_loss', mode='min', verbose=1, save_best_only=True)\n",
        "\n",
        "inception_history = inception_model.fit(\n",
        "    train_generator, epochs=EPOCHS, steps_per_epoch=steps_train, verbose=1,\n",
        "    validation_data=validation_generator,\n",
        "    validation_steps=steps_validation,\n",
        "    class_weight=class_weight,\n",
        "    max_queue_size=50,\n",
        "    callbacks=[es, mc])"
      ],
      "execution_count": null,
      "outputs": []
    },
    {
      "cell_type": "code",
      "metadata": {
        "id": "Csf87FOUWQr_"
      },
      "source": [
        "with open('histories/inception_history', 'wb') as file_pi:\n",
        "    pickle.dump(inception_history.history, file_pi)"
      ],
      "execution_count": null,
      "outputs": []
    },
    {
      "cell_type": "code",
      "metadata": {
        "id": "1yOas-xIGwh7"
      },
      "source": [
        "with open('histories/inception_history', 'rb') as f:\n",
        "    inception_history = pickle.load(f)\n",
        "\n",
        "plot_metrics(inception_history)"
      ],
      "execution_count": null,
      "outputs": []
    },
    {
      "cell_type": "code",
      "metadata": {
        "id": "twPameybebUC"
      },
      "source": [
        "inception_test_pred = inception_model.predict(\n",
        "    test_frame_gen,\n",
        "    verbose = 1,\n",
        "    max_queue_size = 50)"
      ],
      "execution_count": null,
      "outputs": []
    },
    {
      "cell_type": "code",
      "metadata": {
        "id": "SPukteZ-epX4"
      },
      "source": [
        "get_metrics(inception_test_pred)"
      ],
      "execution_count": null,
      "outputs": []
    },
    {
      "cell_type": "markdown",
      "metadata": {
        "id": "rTLacTFSHJYM"
      },
      "source": [
        "#### ResNet50V2"
      ]
    },
    {
      "cell_type": "code",
      "metadata": {
        "id": "jxXGsoLV2jZi"
      },
      "source": [
        "from tensorflow.keras.applications.resnet_v2 import ResNet50V2\n",
        "\n",
        "resnet50v2 = ResNet50V2(\n",
        "    include_top=False,\n",
        "    weights='imagenet',\n",
        "    input_shape=(160, 160, 3)\n",
        ")\n",
        "\n",
        "resnet50v2_model = build_imagenet_model(resnet50v2)\n",
        "\n",
        "for layer in resnet50v2_model.layers[:len(resnet50v2.layers)]:\n",
        "    layer.trainable = False\n",
        "\n",
        "resnet50v2_model.compile(\n",
        "    loss='binary_crossentropy', optimizer=opt_01,\n",
        "    metrics=['binary_accuracy', recall_m, precision_m, f1_m])\n",
        "\n",
        "mc = ModelCheckpoint('models/resnet50v2_model.01.h5', monitor='val_loss', mode='min', verbose=1, save_best_only=True)\n",
        "\n",
        "resnet50v2_history = resnet50v2_model.fit(\n",
        "    train_generator, epochs=EPOCHS, steps_per_epoch=steps_train, verbose=1,\n",
        "    validation_data=validation_generator,\n",
        "    validation_steps=steps_validation,\n",
        "    class_weight=class_weight,\n",
        "    max_queue_size=50,\n",
        "    callbacks=[es, mc])"
      ],
      "execution_count": null,
      "outputs": []
    },
    {
      "cell_type": "code",
      "metadata": {
        "id": "BWML0lB85JrJ"
      },
      "source": [
        "with open('histories/resnet50v2_history', 'wb') as file_pi:\n",
        "    pickle.dump(resnet50v2_history.history, file_pi)"
      ],
      "execution_count": null,
      "outputs": []
    },
    {
      "cell_type": "code",
      "metadata": {
        "id": "tHHpV4RYoDF0"
      },
      "source": [
        "resnet50v2_test_pred = resnet50v2_model.predict(\n",
        "    test_frame_gen,\n",
        "    verbose = 1,\n",
        "    max_queue_size = 50)"
      ],
      "execution_count": null,
      "outputs": []
    },
    {
      "cell_type": "code",
      "metadata": {
        "id": "vLbkvhPpoSA5"
      },
      "source": [
        "get_metrics(resnet50v2_test_pred)"
      ],
      "execution_count": null,
      "outputs": []
    },
    {
      "cell_type": "markdown",
      "metadata": {
        "id": "kxAuCWecw0mN"
      },
      "source": [
        "## Time Distributed CNN Passed to a RNN"
      ]
    },
    {
      "cell_type": "markdown",
      "metadata": {
        "id": "QM0QwNvl_kmB"
      },
      "source": [
        "Reading in raw images caches too much memory and drastically contributes to the time required for training (I was encountering > 14 hours for just a single epoch). To optimize the speed of reading in files, I loaded my data as h5 files in batches of 32 videos."
      ]
    },
    {
      "cell_type": "code",
      "metadata": {
        "id": "-8xNUT19_g8K"
      },
      "source": [
        "# function to create batches of h5 files\n",
        "def h5_batches(metadata, subset, batch_n, batch_size=32):\n",
        "    index_min = batch_n*batch_size\n",
        "    # Adjust for smaller final batch\n",
        "    index_max = min(index_min + batch_size, len(metadata))\n",
        "    df = metadata[index_min:index_max]\n",
        "\n",
        "    with h5py.File(f'{subset}_h5/{batch_n}.h5', \"w\") as f:\n",
        "        X_train = f.create_dataset(\"X_train\", (len(df),30,160,160,3), dtype='float32') # , maxshape=(None,30,160,160,3)\n",
        "        y_train = f.create_dataset(\"y_train\",(len(df),),dtype='u1')\n",
        "\n",
        "        videos = []\n",
        "        count = 0\n",
        "        for dir in df['filename']:\n",
        "            vid_path = subset + '/' + dir\n",
        "\n",
        "            frames=[]\n",
        "            # read frames in order\n",
        "            for file in sorted(os.scandir(vid_path), key=lambda vid: vid.name):\n",
        "                frame = imageio.imread(vid_path + '/' + file.name)\n",
        "                frames.append(frame)\n",
        "\n",
        "            # pad videos with zero matrices if less than 30 frames\n",
        "            if len(frames) < 30:\n",
        "                n_pads = 30 - len(frames)\n",
        "                zero_pads = np.zeros((n_pads, 160, 160, 3))\n",
        "                frames = np.concatenate((frames, zero_pads))\n",
        "\n",
        "            videos.append(frames)\n",
        "            print(f'batch number={batch_n}, vid_number={count}, vid_id={dir}\\r')\n",
        "            count += 1\n",
        "\n",
        "        videos = np.array(videos)\n",
        "        x = videos.astype('float32')\n",
        "        x /= 255\n",
        "\n",
        "        X_train[:,] = x\n",
        "\n",
        "        y_train[:,] = np.array(df['label'])\n",
        "        f.close()"
      ],
      "execution_count": null,
      "outputs": []
    },
    {
      "cell_type": "code",
      "metadata": {
        "id": "3-uwvrQoA8Ox"
      },
      "source": [
        "# CODE TAKES EXTREMELY LONG\n",
        "# generate batches of h5 files, each with 32 videos of 30 frames each\n",
        "for i in range(0, int(np.ceil(len(train)/32)) + 1):\n",
        "    h5_batches(train, 'train', batch_n=i)\n",
        "\n",
        "for i in range(0, int(np.ceil(len(validation)/32)) + 1):\n",
        "    h5_batches(validation, 'validation', batch_n=i)\n",
        "\n",
        "for i in range(0, int(np.ceil(len(test)/32)) + 1):\n",
        "    h5_batches(test, 'test', batch_n=i)"
      ],
      "execution_count": null,
      "outputs": []
    },
    {
      "cell_type": "code",
      "metadata": {
        "id": "0z4ZchW9-i5Z"
      },
      "source": [
        "# functions to create custom batch generators for videos\n",
        "def load_frames(batch_n, subset):\n",
        "    with h5py.File(f'{subset}_h5/{batch_n}.h5', \"r\") as f:\n",
        "        x = f['X_train'][:]\n",
        "        y = f['y_train'][:]\n",
        "        f.close()\n",
        "\n",
        "    return (x, y)\n",
        "\n",
        "def vid_batch_generator(batch_n, steps, subset):\n",
        "    batch_n = 1\n",
        "    while True:\n",
        "        yield load_frames(batch_n-1, subset)\n",
        "        if batch_n < steps:\n",
        "            batch_n+=1\n",
        "        else:\n",
        "            batch_n=1"
      ],
      "execution_count": null,
      "outputs": []
    },
    {
      "cell_type": "code",
      "metadata": {
        "id": "u9RNCjO8S8pi"
      },
      "source": [
        "# function build NN for transfer learning using multiple frames per video\n",
        "# TimeDistributed ImageNet Model passed to recurrent NN\n",
        "def build_TD_imagenet_model(pretrained_model):\n",
        "    model = Sequential([\n",
        "        TimeDistributed(pretrained_model, input_shape=(30, 160, 160, 3)),\n",
        "        Dropout(0.5),\n",
        "        BatchNormalization(),\n",
        "        TimeDistributed(Flatten()),\n",
        "\n",
        "        # Masking layer to ignore padded zeroes\n",
        "        Masking(mask_value=0., input_shape=(30, 160, 160, 3)),\n",
        "\n",
        "        LSTM(64, activation='relu', return_sequences=True),\n",
        "        Dropout(0.25),\n",
        "        BatchNormalization(),\n",
        "        LSTM(256, activation='relu'),\n",
        "        Dropout(0.25),\n",
        "        BatchNormalization(),\n",
        "        Dense(512, activation='relu'),\n",
        "        Dropout(0.25),\n",
        "        BatchNormalization(),\n",
        "        Dense(1, activation='sigmoid')\n",
        "    ])\n",
        "\n",
        "    return model"
      ],
      "execution_count": null,
      "outputs": []
    },
    {
      "cell_type": "code",
      "metadata": {
        "id": "D9Ocl9QQZbLU"
      },
      "source": [
        "# Hyperparameters and generators for video classification\n",
        "EPOCHS=20\n",
        "BATCH_SIZE = 32\n",
        "\n",
        "train_vid_generator = vid_batch_generator(\n",
        "    BATCH_SIZE, steps_train, subset='train')\n",
        "\n",
        "validation_vid_generator = vid_batch_generator(\n",
        "    BATCH_SIZE, steps_validation, subset='validation')\n",
        "\n",
        "test_vid_generator = vid_batch_generator(\n",
        "    BATCH_SIZE, steps_validation, subset='test')"
      ],
      "execution_count": null,
      "outputs": []
    },
    {
      "cell_type": "markdown",
      "metadata": {
        "id": "aEnlTjbgIUyJ"
      },
      "source": [
        "#### Xception"
      ]
    },
    {
      "cell_type": "code",
      "metadata": {
        "id": "z32wUctSw608"
      },
      "source": [
        "from tensorflow.keras.applications.xception import Xception\n",
        "\n",
        "xception = Xception(\n",
        "    include_top=False,\n",
        "    weights='imagenet',\n",
        "    input_shape=(160, 160, 3)\n",
        ")\n",
        "\n",
        "xception_TD_model = build_TD_imagenet_model(xception)\n",
        "\n",
        "for layer in xception_TD_model.layers[:1]:\n",
        "    layer.trainable = False\n",
        "\n",
        "xception_TD_model.compile(\n",
        "    loss='binary_crossentropy', optimizer=opt_01,\n",
        "    metrics=['binary_accuracy', recall_m, precision_m, f1_m])\n",
        "\n",
        "mc = ModelCheckpoint('models/xception_TD_model.01.h5', monitor='val_loss', mode='min', verbose=1, save_best_only=True)\n",
        "\n",
        "xception_TD_history = xception_TD_model.fit(\n",
        "    train_vid_generator, epochs=EPOCHS,\n",
        "    steps_per_epoch=steps_train,\n",
        "    validation_data=validation_vid_generator,\n",
        "    validation_steps=steps_validation,\n",
        "    class_weight=class_weight,\n",
        "    max_queue_size=50,\n",
        "    callbacks=[es, mc],\n",
        "    verbose=1)"
      ],
      "execution_count": null,
      "outputs": []
    },
    {
      "cell_type": "markdown",
      "metadata": {
        "id": "RR-VOfy8IXcx"
      },
      "source": [
        "#### VGG19"
      ]
    },
    {
      "cell_type": "code",
      "metadata": {
        "id": "MVj7YOn-TiHD"
      },
      "source": [
        "from tensorflow.keras.applications.vgg19 import VGG19\n",
        "\n",
        "vgg19 = VGG19(\n",
        "    include_top=False,\n",
        "    weights='imagenet',\n",
        "    input_shape=(160, 160, 3)\n",
        ")\n",
        "\n",
        "vgg19_TD_model = build_TD_imagenet_model(vgg19)\n",
        "\n",
        "for layer in vgg19_TD_model.layers[:1]:\n",
        "    layer.trainable = False"
      ],
      "execution_count": null,
      "outputs": []
    },
    {
      "cell_type": "code",
      "metadata": {
        "id": "pCr4UBpbT11x"
      },
      "source": [
        "vgg19_TD_model.compile(\n",
        "    loss='binary_crossentropy', optimizer=opt_01,\n",
        "    metrics=['binary_accuracy', recall_m, precision_m, f1_m])\n",
        "\n",
        "mc = ModelCheckpoint('models/vgg19_TD_model.01.h5', monitor='val_loss', mode='min', verbose=1, save_best_only=True)"
      ],
      "execution_count": null,
      "outputs": []
    },
    {
      "cell_type": "code",
      "metadata": {
        "id": "8jLajOaCUP5c"
      },
      "source": [
        "vgg19_TD_history = vgg19_TD_model.fit(\n",
        "    train_vid_generator, epochs=20,\n",
        "    steps_per_epoch=steps_train,\n",
        "    validation_data=validation_vid_generator,\n",
        "    validation_steps=steps_validation,\n",
        "    class_weight=class_weight,\n",
        "    max_queue_size=50,\n",
        "    callbacks=[es, mc],\n",
        "    verbose=1)"
      ],
      "execution_count": null,
      "outputs": []
    },
    {
      "cell_type": "markdown",
      "metadata": {
        "id": "a4Zmg119IciO"
      },
      "source": [
        "#### VGG16"
      ]
    },
    {
      "cell_type": "code",
      "metadata": {
        "id": "Ood9gSAOA056"
      },
      "source": [
        "from tensorflow.keras.applications.vgg16 import VGG16\n",
        "\n",
        "vgg16 = VGG16(\n",
        "    include_top=False,\n",
        "    weights='imagenet',\n",
        "    input_shape=(160, 160, 3)\n",
        ")\n",
        "\n",
        "vgg16_TD_model = build_TD_imagenet_model(vgg16)\n",
        "\n",
        "for layer in vgg16_TD_model.layers[:1]:\n",
        "    layer.trainable = False"
      ],
      "execution_count": null,
      "outputs": []
    },
    {
      "cell_type": "code",
      "metadata": {
        "id": "5aIjdx2PA7Rt"
      },
      "source": [
        "vgg16_TD_model.compile(\n",
        "    loss='binary_crossentropy', optimizer=opt_01,\n",
        "    metrics=['binary_accuracy', recall_m, precision_m, f1_m])\n",
        "\n",
        "mc = ModelCheckpoint('models/vgg16_TD_model.01.h5', monitor='val_loss', mode='min', verbose=1, save_best_only=True)"
      ],
      "execution_count": null,
      "outputs": []
    },
    {
      "cell_type": "code",
      "metadata": {
        "id": "ICd-IyiUBRis"
      },
      "source": [
        "vgg16_TD_history = vgg16_TD_model.fit(\n",
        "    train_vid_generator, epochs=20,\n",
        "    steps_per_epoch=steps_train,\n",
        "    validation_data=validation_vid_generator,\n",
        "    validation_steps=steps_validation,\n",
        "    class_weight=class_weight,\n",
        "    max_queue_size=50,\n",
        "    callbacks=[es, mc],\n",
        "    verbose=1)"
      ],
      "execution_count": null,
      "outputs": []
    },
    {
      "cell_type": "markdown",
      "metadata": {
        "id": "61uBXNIV_3BE"
      },
      "source": [
        "## Archived"
      ]
    },
    {
      "cell_type": "code",
      "metadata": {
        "id": "J-honNlb_rxA"
      },
      "source": [
        "# modified from https://mc.ai/train-keras-model-with-large-dataset-batch-training/\n",
        "def load_frame(df, batch_n, batch_size, subset):\n",
        "    if batch_n > 0:\n",
        "        batch = pd.read_csv(df, skiprows=batch_n*batch_size+1, nrows=batch_size, names=['filename', 'label'])\n",
        "    else:\n",
        "        batch = pd.read_csv(df, skiprows=batch_n*batch_size, nrows=batch_size)\n",
        "\n",
        "    frames = []\n",
        "    for dir in batch['filename']:\n",
        "        try:\n",
        "            frame_path = subset + '/' + dir + '/' + os.listdir(subset + '/' + dir)[14]\n",
        "        #if 15th frame does not exist, use first frame\n",
        "        except IndexError:\n",
        "            frame_path = subset + '/' + dir + '/' + os.listdir(subset + '/' + dir)[0]\n",
        "\n",
        "        frame = imageio.imread(frame_path)\n",
        "\n",
        "        frames.append(frame)\n",
        "\n",
        "    frames = np.array(frames)\n",
        "    x = frames.astype('float32')\n",
        "    x /= 255\n",
        "\n",
        "    y = np.array(batch['label'])\n",
        "    #print(y)\n",
        "\n",
        "    #print(f'{batch_n} passed')\n",
        "    return (x, y)\n",
        "\n",
        "def batch_generator(df, batch_size, steps, subset):\n",
        "    batch_n = 1\n",
        "    while True:\n",
        "        yield load_frame(df, batch_n-1, batch_size, subset)\n",
        "        if batch_n < steps:\n",
        "            batch_n+=1\n",
        "        else:\n",
        "            batch_n=1"
      ],
      "execution_count": null,
      "outputs": []
    },
    {
      "cell_type": "code",
      "metadata": {
        "id": "O9GE82oXBPIV"
      },
      "source": [
        "def load_frames(df, batch_n, batch_size, subset):\n",
        "    if batch_n > 0:\n",
        "        df = pd.read_csv(df, skiprows=batch_n*batch_size+1, nrows=batch_size, names=['filename', 'label'])\n",
        "    else:\n",
        "        df = pd.read_csv(df, skiprows=batch_n*batch_size, nrows=batch_size)\n",
        "\n",
        "    videos = []\n",
        "    for dir in df['filename']:\n",
        "        vid_path = subset + '/' + dir\n",
        "\n",
        "        frames=[]\n",
        "        # read frames in order\n",
        "        for file in sorted(os.scandir(vid_path), key=lambda f: f.name):\n",
        "            #print(vid_path + '/' + file.name)\n",
        "            frame = imageio.imread(vid_path + '/' + file.name)\n",
        "            frames.append(frame)\n",
        "\n",
        "        # pad videos with zero matrices if less than 30 frames\n",
        "        if len(frames) < 30:\n",
        "            n_pads = 30 - len(frames)\n",
        "            zero_pads = np.zeros((n_pads, 160, 160, 3))\n",
        "            frames = np.concatenate((frames, zero_pads))\n",
        "\n",
        "        videos.append(frames)\n",
        "\n",
        "    videos = np.array(videos)\n",
        "    x = videos.astype('float32')\n",
        "    x /= 255\n",
        "\n",
        "    y = np.array(df['label'])\n",
        "    #print(y)\n",
        "\n",
        "    #print(f'{batch_n} passed')\n",
        "    return (x, y)\n",
        "\n",
        "def vid_batch_generator(df, batch_size, steps, subset):\n",
        "    batch_n = 1\n",
        "    while True:\n",
        "        yield load_frames(df, batch_n-1, batch_size, subset)\n",
        "        if batch_n < steps:\n",
        "            batch_n+=1\n",
        "        else:\n",
        "            batch_n=1"
      ],
      "execution_count": null,
      "outputs": []
    }
  ]
}